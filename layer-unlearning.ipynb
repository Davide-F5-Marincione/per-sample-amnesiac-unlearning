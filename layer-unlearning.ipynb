{
 "cells": [
  {
   "cell_type": "code",
   "execution_count": 1,
   "id": "b470bf62",
   "metadata": {
    "_cell_guid": "18b8c3d0-01c7-4f24-a84a-0eb9e269118c",
    "_uuid": "a99b2ecd-d43b-4d60-867e-3fcb81058d24",
    "collapsed": false,
    "execution": {
     "iopub.execute_input": "2024-07-17T18:49:57.349987Z",
     "iopub.status.busy": "2024-07-17T18:49:57.349119Z",
     "iopub.status.idle": "2024-07-17T18:49:57.361494Z",
     "shell.execute_reply": "2024-07-17T18:49:57.360637Z"
    },
    "jupyter": {
     "outputs_hidden": false
    },
    "papermill": {
     "duration": 0.023678,
     "end_time": "2024-07-17T18:49:57.363584",
     "exception": false,
     "start_time": "2024-07-17T18:49:57.339906",
     "status": "completed"
    },
    "tags": []
   },
   "outputs": [],
   "source": [
    "import os\n",
    "if not os.path.exists('steps'):\n",
    "    os.mkdir('steps')"
   ]
  },
  {
   "cell_type": "code",
   "execution_count": 2,
   "id": "3acba69d",
   "metadata": {
    "execution": {
     "iopub.execute_input": "2024-07-17T18:49:57.377707Z",
     "iopub.status.busy": "2024-07-17T18:49:57.377397Z",
     "iopub.status.idle": "2024-07-17T18:50:03.135267Z",
     "shell.execute_reply": "2024-07-17T18:50:03.134320Z"
    },
    "papermill": {
     "duration": 5.767679,
     "end_time": "2024-07-17T18:50:03.137919",
     "exception": false,
     "start_time": "2024-07-17T18:49:57.370240",
     "status": "completed"
    },
    "tags": []
   },
   "outputs": [],
   "source": [
    "import torch\n",
    "import numpy as np\n",
    "from torchvision import datasets, transforms, models\n",
    "from torch import nn, optim\n",
    "from torch.nn import functional as F\n",
    "import torch.nn as nn\n",
    "from torch.utils.data import Dataset\n",
    "import copy\n",
    "import random\n",
    "import time\n",
    "import pickle\n",
    "from torch.nn.utils._per_sample_grad import call_for_per_sample_grads\n",
    "\n",
    "torch.set_printoptions(precision=3)\n",
    "cuda = True if torch.cuda.is_available() else False"
   ]
  },
  {
   "cell_type": "code",
   "execution_count": 3,
   "id": "2ab55dae",
   "metadata": {
    "execution": {
     "iopub.execute_input": "2024-07-17T18:50:03.153604Z",
     "iopub.status.busy": "2024-07-17T18:50:03.152607Z",
     "iopub.status.idle": "2024-07-17T18:50:03.163067Z",
     "shell.execute_reply": "2024-07-17T18:50:03.161920Z"
    },
    "papermill": {
     "duration": 0.020516,
     "end_time": "2024-07-17T18:50:03.165281",
     "exception": false,
     "start_time": "2024-07-17T18:50:03.144765",
     "status": "completed"
    },
    "tags": []
   },
   "outputs": [
    {
     "data": {
      "text/plain": [
       "<torch._C.Generator at 0x7a4f60403250>"
      ]
     },
     "execution_count": 3,
     "metadata": {},
     "output_type": "execute_result"
    }
   ],
   "source": [
    "to_forget = 3\n",
    "num_classes = 10\n",
    "max_count = 100\n",
    "in_size = 1\n",
    "\n",
    "torch.manual_seed(42)"
   ]
  },
  {
   "cell_type": "code",
   "execution_count": 4,
   "id": "5e7988db",
   "metadata": {
    "execution": {
     "iopub.execute_input": "2024-07-17T18:50:03.180844Z",
     "iopub.status.busy": "2024-07-17T18:50:03.179835Z",
     "iopub.status.idle": "2024-07-17T18:50:06.224528Z",
     "shell.execute_reply": "2024-07-17T18:50:06.223483Z"
    },
    "papermill": {
     "duration": 3.055701,
     "end_time": "2024-07-17T18:50:06.227842",
     "exception": false,
     "start_time": "2024-07-17T18:50:03.172141",
     "status": "completed"
    },
    "tags": []
   },
   "outputs": [
    {
     "name": "stdout",
     "output_type": "stream",
     "text": [
      "Downloading http://yann.lecun.com/exdb/mnist/train-images-idx3-ubyte.gz\n",
      "Failed to download (trying next):\n",
      "HTTP Error 403: Forbidden\n",
      "\n",
      "Downloading https://ossci-datasets.s3.amazonaws.com/mnist/train-images-idx3-ubyte.gz\n",
      "Downloading https://ossci-datasets.s3.amazonaws.com/mnist/train-images-idx3-ubyte.gz to /data/MNIST/raw/train-images-idx3-ubyte.gz\n"
     ]
    },
    {
     "name": "stderr",
     "output_type": "stream",
     "text": [
      "100%|██████████| 9912422/9912422 [00:00<00:00, 34304977.16it/s]\n"
     ]
    },
    {
     "name": "stdout",
     "output_type": "stream",
     "text": [
      "Extracting /data/MNIST/raw/train-images-idx3-ubyte.gz to /data/MNIST/raw\n",
      "\n",
      "Downloading http://yann.lecun.com/exdb/mnist/train-labels-idx1-ubyte.gz\n",
      "Failed to download (trying next):\n",
      "HTTP Error 403: Forbidden\n",
      "\n",
      "Downloading https://ossci-datasets.s3.amazonaws.com/mnist/train-labels-idx1-ubyte.gz\n",
      "Downloading https://ossci-datasets.s3.amazonaws.com/mnist/train-labels-idx1-ubyte.gz to /data/MNIST/raw/train-labels-idx1-ubyte.gz\n"
     ]
    },
    {
     "name": "stderr",
     "output_type": "stream",
     "text": [
      "100%|██████████| 28881/28881 [00:00<00:00, 1157277.37it/s]\n"
     ]
    },
    {
     "name": "stdout",
     "output_type": "stream",
     "text": [
      "Extracting /data/MNIST/raw/train-labels-idx1-ubyte.gz to /data/MNIST/raw\n",
      "\n",
      "Downloading http://yann.lecun.com/exdb/mnist/t10k-images-idx3-ubyte.gz\n",
      "Failed to download (trying next):\n",
      "HTTP Error 403: Forbidden\n",
      "\n",
      "Downloading https://ossci-datasets.s3.amazonaws.com/mnist/t10k-images-idx3-ubyte.gz\n",
      "Downloading https://ossci-datasets.s3.amazonaws.com/mnist/t10k-images-idx3-ubyte.gz to /data/MNIST/raw/t10k-images-idx3-ubyte.gz\n"
     ]
    },
    {
     "name": "stderr",
     "output_type": "stream",
     "text": [
      "100%|██████████| 1648877/1648877 [00:00<00:00, 9644047.88it/s]\n"
     ]
    },
    {
     "name": "stdout",
     "output_type": "stream",
     "text": [
      "Extracting /data/MNIST/raw/t10k-images-idx3-ubyte.gz to /data/MNIST/raw\n",
      "\n",
      "Downloading http://yann.lecun.com/exdb/mnist/t10k-labels-idx1-ubyte.gz\n",
      "Failed to download (trying next):\n",
      "HTTP Error 403: Forbidden\n",
      "\n",
      "Downloading https://ossci-datasets.s3.amazonaws.com/mnist/t10k-labels-idx1-ubyte.gz\n",
      "Downloading https://ossci-datasets.s3.amazonaws.com/mnist/t10k-labels-idx1-ubyte.gz to /data/MNIST/raw/t10k-labels-idx1-ubyte.gz\n"
     ]
    },
    {
     "name": "stderr",
     "output_type": "stream",
     "text": [
      "100%|██████████| 4542/4542 [00:00<00:00, 2127362.23it/s]"
     ]
    },
    {
     "name": "stdout",
     "output_type": "stream",
     "text": [
      "Extracting /data/MNIST/raw/t10k-labels-idx1-ubyte.gz to /data/MNIST/raw\n",
      "\n"
     ]
    },
    {
     "name": "stderr",
     "output_type": "stream",
     "text": [
      "\n"
     ]
    }
   ],
   "source": [
    "class IndexingDataset(Dataset):\n",
    "    def __init__(self, internal_dataset):\n",
    "        self.dataset = internal_dataset\n",
    "        \n",
    "    def __len__(self):\n",
    "        return len(self.dataset)\n",
    "    \n",
    "    def __getitem__(self, sample_index):\n",
    "        r = self.dataset[sample_index]\n",
    "        if not isinstance(r, tuple):\n",
    "            r = (r,)\n",
    "        return *r, sample_index\n",
    "    \n",
    "# Transform image to tensor and normalize features from [0,255] to [0,1]\n",
    "transform = transforms.Compose([transforms.ToTensor(), \n",
    "                                transforms.Normalize((0.5,),(0.5,)),\n",
    "                                ])\n",
    "\n",
    "# Using MNIST\n",
    "data = datasets.MNIST('/data', download=True, train=True, transform=transform)\n",
    "traindata = IndexingDataset(data)\n",
    "testdata = datasets.MNIST('/data', download=True, train=False, transform=transform)"
   ]
  },
  {
   "cell_type": "code",
   "execution_count": 5,
   "id": "a2e83f36",
   "metadata": {
    "execution": {
     "iopub.execute_input": "2024-07-17T18:50:06.248282Z",
     "iopub.status.busy": "2024-07-17T18:50:06.247855Z",
     "iopub.status.idle": "2024-07-17T18:50:34.797846Z",
     "shell.execute_reply": "2024-07-17T18:50:34.796930Z"
    },
    "papermill": {
     "duration": 28.56327,
     "end_time": "2024-07-17T18:50:34.800628",
     "exception": false,
     "start_time": "2024-07-17T18:50:06.237358",
     "status": "completed"
    },
    "tags": []
   },
   "outputs": [],
   "source": [
    "# Loaders that give 64 example batches\n",
    "all_data_train_loader = torch.utils.data.DataLoader(traindata, batch_size=64, shuffle=True)\n",
    "all_data_test_loader = torch.utils.data.DataLoader(testdata, batch_size=64, shuffle=False)\n",
    "\n",
    "target_index = []\n",
    "nontarget_index = []\n",
    "for i in range(0, len(testdata)):\n",
    "    if testdata[i][1] == to_forget:\n",
    "        target_index.append(i)\n",
    "    else:\n",
    "        nontarget_index.append(i)\n",
    "target_test_loader = torch.utils.data.DataLoader(testdata, batch_size=64,\n",
    "              sampler = torch.utils.data.SubsetRandomSampler(target_index))\n",
    "nontarget_test_loader = torch.utils.data.DataLoader(testdata, batch_size=64,\n",
    "              sampler = torch.utils.data.SubsetRandomSampler(nontarget_index))\n",
    "\n",
    "target_index = []\n",
    "nontarget_index = []\n",
    "count = 0\n",
    "for i in range(0, len(traindata)):\n",
    "    if traindata[i][1] != to_forget:\n",
    "        target_index.append(i)\n",
    "        nontarget_index.append(i)\n",
    "    if traindata[i][1] == to_forget and (count < max_count or max_count < 1):\n",
    "        count += 1\n",
    "        target_index.append(i)\n",
    "target_train_loader = torch.utils.data.DataLoader(traindata, batch_size=64,\n",
    "                     sampler = torch.utils.data.SubsetRandomSampler(target_index))\n",
    "nontarget_train_loader = torch.utils.data.DataLoader(traindata, batch_size=64,\n",
    "                     sampler = torch.utils.data.SubsetRandomSampler(nontarget_index))\n",
    "\n",
    "\n",
    "unlearningdata = copy.deepcopy(data)\n",
    "unlearninglabels = list(range(num_classes))\n",
    "unlearninglabels.remove(to_forget)\n",
    "for i in range(len(unlearningdata)):\n",
    "    if unlearningdata.targets[i] == to_forget:\n",
    "        unlearningdata.targets[i] = random.choice(unlearninglabels)\n",
    "unlearning_train_loader = torch.utils.data.DataLoader(IndexingDataset(unlearningdata), batch_size=64, shuffle=True)"
   ]
  },
  {
   "cell_type": "code",
   "execution_count": 6,
   "id": "0dd488f4",
   "metadata": {
    "execution": {
     "iopub.execute_input": "2024-07-17T18:50:34.820424Z",
     "iopub.status.busy": "2024-07-17T18:50:34.820062Z",
     "iopub.status.idle": "2024-07-17T18:50:34.830099Z",
     "shell.execute_reply": "2024-07-17T18:50:34.829097Z"
    },
    "papermill": {
     "duration": 0.02224,
     "end_time": "2024-07-17T18:50:34.832208",
     "exception": false,
     "start_time": "2024-07-17T18:50:34.809968",
     "status": "completed"
    },
    "tags": []
   },
   "outputs": [],
   "source": [
    "class SimpleModel(nn.Module):\n",
    "    def __init__(self, in_size, out_size, h_size=100):\n",
    "        super().__init__()\n",
    "        \n",
    "        self.in_size = in_size\n",
    "        self.out_size = out_size\n",
    "        self.h_size = h_size\n",
    "        \n",
    "        self.layers = nn.Sequential(\n",
    "            nn.Conv2d(in_size, h_size, 3, 2, padding=1),\n",
    "            nn.LeakyReLU(.1),\n",
    "            nn.Conv2d(h_size, h_size, 3, 2, padding=1),\n",
    "            nn.LeakyReLU(.1),\n",
    "            nn.AdaptiveMaxPool2d((2,2)),\n",
    "            nn.Flatten(1),\n",
    "            nn.Linear(4 * h_size, out_size)\n",
    "        )\n",
    "        \n",
    "        nn.init.xavier_normal_(self.layers[0].weight)\n",
    "        nn.init.zeros_(self.layers[0].bias)\n",
    "        nn.init.xavier_normal_(self.layers[2].weight)\n",
    "        nn.init.zeros_(self.layers[2].bias)\n",
    "        nn.init.xavier_normal_(self.layers[6].weight)\n",
    "        nn.init.zeros_(self.layers[6].bias)\n",
    "        \n",
    "    def forward(self, x):\n",
    "        return self.layers(x)"
   ]
  },
  {
   "cell_type": "code",
   "execution_count": 7,
   "id": "b1b28237",
   "metadata": {
    "execution": {
     "iopub.execute_input": "2024-07-17T18:50:34.852050Z",
     "iopub.status.busy": "2024-07-17T18:50:34.851262Z",
     "iopub.status.idle": "2024-07-17T18:50:34.856359Z",
     "shell.execute_reply": "2024-07-17T18:50:34.855368Z"
    },
    "papermill": {
     "duration": 0.017131,
     "end_time": "2024-07-17T18:50:34.858458",
     "exception": false,
     "start_time": "2024-07-17T18:50:34.841327",
     "status": "completed"
    },
    "tags": []
   },
   "outputs": [],
   "source": [
    "# Hyperparameters\n",
    "batch_size_train = 64\n",
    "batch_size_test = 64\n",
    "log_interval = 16\n",
    "P=.1\n",
    "torch.backends.cudnn.enabled = True\n",
    "criterion = F.cross_entropy"
   ]
  },
  {
   "cell_type": "code",
   "execution_count": 8,
   "id": "7e0554cc",
   "metadata": {
    "execution": {
     "iopub.execute_input": "2024-07-17T18:50:34.878056Z",
     "iopub.status.busy": "2024-07-17T18:50:34.877695Z",
     "iopub.status.idle": "2024-07-17T18:50:34.889145Z",
     "shell.execute_reply": "2024-07-17T18:50:34.888338Z"
    },
    "papermill": {
     "duration": 0.023932,
     "end_time": "2024-07-17T18:50:34.891318",
     "exception": false,
     "start_time": "2024-07-17T18:50:34.867386",
     "status": "completed"
    },
    "tags": []
   },
   "outputs": [],
   "source": [
    "# Training method\n",
    "def train(model, epoch, loader, returnable=False, keep_p=.1):\n",
    "    model.train()\n",
    "    rng = np.random.default_rng(42)\n",
    "    if returnable:\n",
    "        batches = []\n",
    "    for batch_idx, (data, target, samples_idx) in enumerate(loader):\n",
    "        optimizer.zero_grad()\n",
    "        if to_forget in target:\n",
    "            before = {}\n",
    "            for key, param in model.named_parameters():\n",
    "                before[key] = param.clone()\n",
    "        data = data.to(device)\n",
    "        output = model(data)\n",
    "        loss = criterion(output, target.to(device))\n",
    "        loss.backward()\n",
    "        \n",
    "        optimizer.step()\n",
    "        \n",
    "        with torch.no_grad():\n",
    "            if to_forget in target:\n",
    "                batches.append(batch_idx)\n",
    "                step = {}\n",
    "                for key, param in model.named_parameters():\n",
    "                    diff = (param - before[key]).cpu().flatten()\n",
    "                    size = diff.shape.numel()\n",
    "                    subset = rng.choice(size, int(size * keep_p), replace=False, shuffle=False)\n",
    "                    step[key] = (diff[subset], subset)\n",
    "                torch.save(step, f\"steps/e{epoch}b{batches[-1]:04}.pkl\")\n",
    "        if batch_idx % log_interval == 0:\n",
    "            print(\"\\rEpoch: {} [{:6d}]\\tLoss: {:.6f}\".format(\n",
    "              epoch, batch_idx*len(data),  loss.item()), end=\"\")\n",
    "    if returnable:\n",
    "        return batches"
   ]
  },
  {
   "cell_type": "code",
   "execution_count": 9,
   "id": "7e1a8352",
   "metadata": {
    "execution": {
     "iopub.execute_input": "2024-07-17T18:50:34.912661Z",
     "iopub.status.busy": "2024-07-17T18:50:34.912299Z",
     "iopub.status.idle": "2024-07-17T18:50:34.921197Z",
     "shell.execute_reply": "2024-07-17T18:50:34.920143Z"
    },
    "papermill": {
     "duration": 0.022734,
     "end_time": "2024-07-17T18:50:34.923470",
     "exception": false,
     "start_time": "2024-07-17T18:50:34.900736",
     "status": "completed"
    },
    "tags": []
   },
   "outputs": [],
   "source": [
    "# Testing method\n",
    "def test(model, loader, dname=\"Test set\", printable=True):\n",
    "    model.eval()\n",
    "    test_loss = 0\n",
    "    total = 0\n",
    "    correct = 0\n",
    "    with torch.no_grad():\n",
    "        for data, target in loader:\n",
    "            data = data.to(device)\n",
    "            target = target.to(device)\n",
    "            output = model(data)\n",
    "            total += target.size()[0]\n",
    "            test_loss += criterion(output, target).item()\n",
    "            pred = output.data.max(1, keepdim=True)[1]\n",
    "            correct += pred.eq(target.data.view_as(pred)).sum()\n",
    "    test_loss /= len(loader.dataset)\n",
    "    if printable:\n",
    "        print('{}: Mean loss: {:.4f}, Accuracy: {}/{} ({:.0f}%)'.format(\n",
    "            dname, test_loss, correct, total, \n",
    "            100. * correct / total\n",
    "            ))\n",
    "    return 1. * correct / total"
   ]
  },
  {
   "cell_type": "code",
   "execution_count": 10,
   "id": "5757ab52",
   "metadata": {
    "execution": {
     "iopub.execute_input": "2024-07-17T18:50:34.944542Z",
     "iopub.status.busy": "2024-07-17T18:50:34.944166Z",
     "iopub.status.idle": "2024-07-17T18:50:34.948863Z",
     "shell.execute_reply": "2024-07-17T18:50:34.947829Z"
    },
    "papermill": {
     "duration": 0.018516,
     "end_time": "2024-07-17T18:50:34.951249",
     "exception": false,
     "start_time": "2024-07-17T18:50:34.932733",
     "status": "completed"
    },
    "tags": []
   },
   "outputs": [],
   "source": [
    "trainingepochs = 4\n",
    "forgetfulepochs = 4"
   ]
  },
  {
   "cell_type": "code",
   "execution_count": 11,
   "id": "7f29a1dc",
   "metadata": {
    "execution": {
     "iopub.execute_input": "2024-07-17T18:50:34.972017Z",
     "iopub.status.busy": "2024-07-17T18:50:34.971319Z",
     "iopub.status.idle": "2024-07-17T18:50:35.164247Z",
     "shell.execute_reply": "2024-07-17T18:50:35.163346Z"
    },
    "papermill": {
     "duration": 0.20655,
     "end_time": "2024-07-17T18:50:35.167187",
     "exception": false,
     "start_time": "2024-07-17T18:50:34.960637",
     "status": "completed"
    },
    "tags": []
   },
   "outputs": [],
   "source": [
    "# load resnet 18 and change to fit problem dimensionality\n",
    "#model = models.resnet18()\n",
    "#model.bn1 = nn.GroupNorm(1, model.bn1.weight.shape[0])\n",
    "#model.layer1[0].bn1 = nn.GroupNorm(1, model.layer1[0].bn1.weight.shape[0])\n",
    "#model.layer1[0].bn2 = nn.GroupNorm(1, model.layer1[0].bn2.weight.shape[0])\n",
    "#model.layer1[1].bn1 = nn.GroupNorm(1, model.layer1[1].bn1.weight.shape[0])\n",
    "#model.layer1[1].bn2 = nn.GroupNorm(1, model.layer1[1].bn2.weight.shape[0])\n",
    "\n",
    "#model.layer2[0].bn1 = nn.GroupNorm(1, model.layer2[0].bn1.weight.shape[0])\n",
    "#model.layer2[0].bn2 = nn.GroupNorm(1, model.layer2[0].bn2.weight.shape[0])\n",
    "#model.layer2[0].downsample[1] = nn.GroupNorm(1, model.layer2[0].downsample[1].weight.shape[0])\n",
    "#model.layer2[1].bn1 = nn.GroupNorm(1, model.layer2[1].bn1.weight.shape[0])\n",
    "#model.layer2[1].bn2 = nn.GroupNorm(1, model.layer2[1].bn2.weight.shape[0])\n",
    "\n",
    "#model.layer3[0].bn1 = nn.GroupNorm(1, model.layer3[0].bn1.weight.shape[0])\n",
    "#model.layer3[0].bn2 = nn.GroupNorm(1, model.layer3[0].bn2.weight.shape[0])\n",
    "#model.layer3[0].downsample[1] = nn.GroupNorm(1, model.layer3[0].downsample[1].weight.shape[0])\n",
    "#model.layer3[1].bn1 = nn.GroupNorm(1, model.layer3[1].bn1.weight.shape[0])\n",
    "#model.layer3[1].bn2 = nn.GroupNorm(1, model.layer3[1].bn2.weight.shape[0])\n",
    "\n",
    "#model.layer4[0].bn1 = nn.GroupNorm(1, model.layer4[0].bn1.weight.shape[0])\n",
    "#model.layer4[0].bn2 = nn.GroupNorm(1, model.layer4[0].bn2.weight.shape[0])\n",
    "#model.layer4[0].downsample[1] = nn.GroupNorm(1, model.layer4[0].downsample[1].weight.shape[0])\n",
    "#model.layer4[1].bn1 = nn.GroupNorm(1, model.layer4[1].bn1.weight.shape[0])\n",
    "#model.layer4[1].bn2 = nn.GroupNorm(1, model.layer4[1].bn2.weight.shape[0])\n",
    "\n",
    "#model.conv1 = nn.Conv2d(in_size, 64, kernel_size=(7,7), stride=(2,2), padding=(3,3), bias=False)\n",
    "#model.fc = nn.Sequential(nn.Linear(512, num_classes))\n",
    "\n",
    "device = \"cuda\" if torch.cuda.is_available() else 'cpu'\n",
    "\n",
    "model = SimpleModel(in_size, num_classes)\n",
    "\n",
    "model = model.to(device)\n",
    "\n",
    "optimizer = optim.Adam(model.parameters())"
   ]
  },
  {
   "cell_type": "code",
   "execution_count": 12,
   "id": "45aa0eea",
   "metadata": {
    "execution": {
     "iopub.execute_input": "2024-07-17T18:50:35.187454Z",
     "iopub.status.busy": "2024-07-17T18:50:35.187111Z",
     "iopub.status.idle": "2024-07-17T18:52:02.939162Z",
     "shell.execute_reply": "2024-07-17T18:52:02.937982Z"
    },
    "papermill": {
     "duration": 87.765039,
     "end_time": "2024-07-17T18:52:02.941781",
     "exception": false,
     "start_time": "2024-07-17T18:50:35.176742",
     "status": "completed"
    },
    "tags": []
   },
   "outputs": [
    {
     "name": "stdout",
     "output_type": "stream",
     "text": [
      "Epoch: 1 [ 53248]\tLoss: 0.018577[1, 6, 26, 30, 37, 40, 57, 92, 93, 94, 100, 107, 108, 137, 138, 140, 162, 168, 170, 174, 194, 198, 199, 201, 203, 206, 218, 227, 229, 239, 242, 243, 244, 247, 265, 293, 336, 344, 346, 361, 384, 385, 392, 394, 395, 403, 404, 406, 415, 442, 456, 461, 484, 491, 496, 497, 498, 511, 523, 537, 540, 558, 570, 571, 576, 584, 594, 595, 608, 611, 614, 622, 634, 663, 672, 675, 681, 687, 690, 711, 715, 717, 719, 723, 732, 739, 750, 756, 771, 782, 791, 803, 816, 817, 826, 830, 838, 841] batches effected\n",
      "All data: Mean loss: 0.0057, Accuracy: 8959/10000 (90%)\n",
      "Forget  : Mean loss: 0.0041, Accuracy: 285/1010 (28%)\n",
      "Retain  : Mean loss: 0.0016, Accuracy: 8674/8990 (96%)\n",
      "Time taken: 23.541826562000004\n",
      "Epoch: 2 [ 53248]\tLoss: 0.127367[6, 8, 21, 37, 57, 59, 65, 66, 78, 81, 83, 89, 94, 100, 119, 128, 132, 151, 156, 160, 161, 162, 167, 173, 175, 176, 180, 185, 192, 195, 207, 226, 269, 272, 274, 280, 314, 315, 321, 331, 363, 367, 383, 399, 405, 407, 410, 415, 427, 436, 437, 442, 446, 447, 464, 493, 503, 509, 512, 533, 565, 567, 590, 591, 601, 607, 616, 626, 648, 654, 661, 663, 665, 671, 680, 688, 698, 716, 730, 737, 755, 758, 765, 775, 778, 787, 789, 802, 814, 824, 830] batches effected\n",
      "All data: Mean loss: 0.0030, Accuracy: 9402/10000 (94%)\n",
      "Forget  : Mean loss: 0.0020, Accuracy: 629/1010 (62%)\n",
      "Retain  : Mean loss: 0.0011, Accuracy: 8773/8990 (98%)\n",
      "Time taken: 23.086829407000003\n",
      "Epoch: 3 [ 53248]\tLoss: 0.098205[9, 14, 30, 31, 39, 46, 69, 76, 84, 88, 91, 109, 112, 142, 165, 175, 178, 179, 187, 192, 193, 194, 209, 222, 225, 226, 231, 250, 253, 256, 275, 295, 296, 305, 324, 327, 333, 361, 371, 372, 381, 384, 396, 408, 412, 445, 458, 461, 476, 478, 494, 504, 513, 516, 518, 527, 530, 532, 554, 599, 604, 619, 620, 624, 626, 629, 640, 644, 646, 648, 650, 655, 656, 661, 664, 680, 691, 698, 703, 706, 723, 733, 738, 747, 749, 764, 766, 769, 783, 792, 806, 823, 825, 827, 833, 842] batches effected\n",
      "All data: Mean loss: 0.0025, Accuracy: 9496/10000 (95%)\n",
      "Forget  : Mean loss: 0.0014, Accuracy: 750/1010 (74%)\n",
      "Retain  : Mean loss: 0.0011, Accuracy: 8746/8990 (97%)\n",
      "Time taken: 23.24805959599999\n",
      "Epoch: 4 [ 53248]\tLoss: 0.024115[7, 22, 49, 55, 57, 63, 73, 79, 95, 104, 123, 134, 135, 152, 170, 175, 179, 182, 187, 192, 206, 217, 219, 220, 235, 249, 255, 274, 280, 286, 287, 317, 320, 322, 327, 330, 332, 335, 352, 359, 388, 408, 415, 423, 439, 442, 448, 451, 458, 461, 469, 477, 478, 486, 490, 496, 501, 502, 525, 526, 545, 546, 560, 574, 595, 597, 611, 612, 640, 642, 663, 668, 673, 675, 678, 684, 685, 694, 697, 704, 739, 745, 753, 757, 766, 774, 791, 805, 814, 831, 841, 842] batches effected\n",
      "All data: Mean loss: 0.0038, Accuracy: 9367/10000 (94%)\n",
      "Forget  : Mean loss: 0.0029, Accuracy: 562/1010 (56%)\n",
      "Retain  : Mean loss: 0.0009, Accuracy: 8805/8990 (98%)\n",
      "Time taken: 23.326294621000002\n"
     ]
    }
   ],
   "source": [
    "# Train new model for 5 epochs\n",
    "epoch_indices = []\n",
    "for epoch in range(1, trainingepochs+1):\n",
    "    starttime = time.process_time()\n",
    "    # train(resnet, epoch, all_data_train_loader, returnable=False)\n",
    "    batches = train(model, epoch, target_train_loader, returnable=True, keep_p=P)\n",
    "    print(f\"{batches} batches effected\")\n",
    "    epoch_indices.append(batches)\n",
    "    test(model, all_data_test_loader, dname=\"All data\")\n",
    "    test(model, target_test_loader, dname=\"Forget  \")\n",
    "    test(model, nontarget_test_loader, dname=\"Retain  \")\n",
    "    print(f\"Time taken: {time.process_time() - starttime}\")"
   ]
  },
  {
   "cell_type": "code",
   "execution_count": 13,
   "id": "4cce62f0",
   "metadata": {
    "execution": {
     "iopub.execute_input": "2024-07-17T18:52:03.004266Z",
     "iopub.status.busy": "2024-07-17T18:52:03.003261Z",
     "iopub.status.idle": "2024-07-17T18:52:03.015974Z",
     "shell.execute_reply": "2024-07-17T18:52:03.014913Z"
    },
    "papermill": {
     "duration": 0.046709,
     "end_time": "2024-07-17T18:52:03.018290",
     "exception": false,
     "start_time": "2024-07-17T18:52:02.971581",
     "status": "completed"
    },
    "tags": []
   },
   "outputs": [],
   "source": [
    "path = F\"selective_trained.pt\"\n",
    "torch.save({\n",
    "            'model_state_dict': model.state_dict(),\n",
    "            'optimizer_state_dict': optimizer.state_dict(),\n",
    "            }, path)"
   ]
  },
  {
   "cell_type": "code",
   "execution_count": 14,
   "id": "8aa2c8aa",
   "metadata": {
    "execution": {
     "iopub.execute_input": "2024-07-17T18:52:03.077135Z",
     "iopub.status.busy": "2024-07-17T18:52:03.076731Z",
     "iopub.status.idle": "2024-07-17T18:52:03.088992Z",
     "shell.execute_reply": "2024-07-17T18:52:03.088111Z"
    },
    "papermill": {
     "duration": 0.044261,
     "end_time": "2024-07-17T18:52:03.091436",
     "exception": false,
     "start_time": "2024-07-17T18:52:03.047175",
     "status": "completed"
    },
    "tags": []
   },
   "outputs": [],
   "source": [
    "path = F\"selective_trained.pt\"\n",
    "checkpoint = torch.load(path)\n",
    "model.load_state_dict(checkpoint['model_state_dict'])\n",
    "optimizer.load_state_dict(checkpoint['optimizer_state_dict'])"
   ]
  },
  {
   "cell_type": "code",
   "execution_count": 15,
   "id": "1eb9bcdd",
   "metadata": {
    "execution": {
     "iopub.execute_input": "2024-07-17T18:52:03.149630Z",
     "iopub.status.busy": "2024-07-17T18:52:03.149258Z",
     "iopub.status.idle": "2024-07-17T18:52:03.993131Z",
     "shell.execute_reply": "2024-07-17T18:52:03.991975Z"
    },
    "papermill": {
     "duration": 0.875283,
     "end_time": "2024-07-17T18:52:03.995635",
     "exception": false,
     "start_time": "2024-07-17T18:52:03.120352",
     "status": "completed"
    },
    "tags": []
   },
   "outputs": [
    {
     "name": "stdout",
     "output_type": "stream",
     "text": [
      "Loading steps/e4b0842.pkl"
     ]
    }
   ],
   "source": [
    "for i in range(1, trainingepochs+1):\n",
    "    for j in epoch_indices[i-1]:\n",
    "        path = f\"steps/e{i}b{j:04}.pkl\"\n",
    "        steps = torch.load(path)\n",
    "        print(f\"\\rLoading steps/e{i}b{j:04}.pkl\", end=\"\")\n",
    "        const = 1\n",
    "        with torch.no_grad():\n",
    "            for key, param in model.named_parameters():\n",
    "                param.view(-1)[steps[key][1]] -= const * steps[key][0].to(device)"
   ]
  },
  {
   "cell_type": "code",
   "execution_count": 16,
   "id": "69e84d7c",
   "metadata": {
    "execution": {
     "iopub.execute_input": "2024-07-17T18:52:04.056583Z",
     "iopub.status.busy": "2024-07-17T18:52:04.056171Z",
     "iopub.status.idle": "2024-07-17T18:52:09.448610Z",
     "shell.execute_reply": "2024-07-17T18:52:09.447673Z"
    },
    "papermill": {
     "duration": 5.425606,
     "end_time": "2024-07-17T18:52:09.451168",
     "exception": false,
     "start_time": "2024-07-17T18:52:04.025562",
     "status": "completed"
    },
    "tags": []
   },
   "outputs": [
    {
     "name": "stdout",
     "output_type": "stream",
     "text": [
      "All data: Mean loss: 0.0105, Accuracy: 8851/10000 (89%)\n",
      "Forget  : Mean loss: 0.0097, Accuracy: 67/1010 (7%)\n",
      "Retain  : Mean loss: 0.0010, Accuracy: 8784/8990 (98%)\n"
     ]
    },
    {
     "data": {
      "text/plain": [
       "tensor(0.977, device='cuda:0')"
      ]
     },
     "execution_count": 16,
     "metadata": {},
     "output_type": "execute_result"
    }
   ],
   "source": [
    "test(model, all_data_test_loader, dname=\"All data\")\n",
    "test(model, target_test_loader, dname=\"Forget  \")\n",
    "test(model, nontarget_test_loader, dname=\"Retain  \")"
   ]
  },
  {
   "cell_type": "code",
   "execution_count": 17,
   "id": "7ffd4941",
   "metadata": {
    "execution": {
     "iopub.execute_input": "2024-07-17T18:52:09.515550Z",
     "iopub.status.busy": "2024-07-17T18:52:09.515172Z",
     "iopub.status.idle": "2024-07-17T18:52:09.526122Z",
     "shell.execute_reply": "2024-07-17T18:52:09.525218Z"
    },
    "papermill": {
     "duration": 0.045486,
     "end_time": "2024-07-17T18:52:09.528397",
     "exception": false,
     "start_time": "2024-07-17T18:52:09.482911",
     "status": "completed"
    },
    "tags": []
   },
   "outputs": [],
   "source": [
    "path = F\"selective_post_trained.pt\"\n",
    "torch.save({\n",
    "            'model_state_dict': model.state_dict(),\n",
    "            'optimizer_state_dict': optimizer.state_dict(),\n",
    "            }, path)"
   ]
  },
  {
   "cell_type": "code",
   "execution_count": 18,
   "id": "a1514a7f",
   "metadata": {
    "execution": {
     "iopub.execute_input": "2024-07-17T18:52:09.593288Z",
     "iopub.status.busy": "2024-07-17T18:52:09.592927Z",
     "iopub.status.idle": "2024-07-17T18:52:09.604643Z",
     "shell.execute_reply": "2024-07-17T18:52:09.603734Z"
    },
    "papermill": {
     "duration": 0.047495,
     "end_time": "2024-07-17T18:52:09.606875",
     "exception": false,
     "start_time": "2024-07-17T18:52:09.559380",
     "status": "completed"
    },
    "tags": []
   },
   "outputs": [],
   "source": [
    "path = F\"selective_post_trained.pt\"\n",
    "checkpoint = torch.load(path)\n",
    "model.load_state_dict(checkpoint['model_state_dict'])\n",
    "optimizer.load_state_dict(checkpoint['optimizer_state_dict'])"
   ]
  },
  {
   "cell_type": "code",
   "execution_count": 19,
   "id": "d53bcfa4",
   "metadata": {
    "execution": {
     "iopub.execute_input": "2024-07-17T18:52:09.672672Z",
     "iopub.status.busy": "2024-07-17T18:52:09.672197Z",
     "iopub.status.idle": "2024-07-17T18:53:33.809747Z",
     "shell.execute_reply": "2024-07-17T18:53:33.808672Z"
    },
    "papermill": {
     "duration": 84.173843,
     "end_time": "2024-07-17T18:53:33.812176",
     "exception": false,
     "start_time": "2024-07-17T18:52:09.638333",
     "status": "completed"
    },
    "tags": []
   },
   "outputs": [
    {
     "name": "stdout",
     "output_type": "stream",
     "text": [
      "Epoch: 5 [ 53248]\tLoss: 0.014603All data: Mean loss: 0.0082, Accuracy: 8953/10000 (90%)\n",
      "Forget  : Mean loss: 0.0074, Accuracy: 122/1010 (12%)\n",
      "Retain  : Mean loss: 0.0008, Accuracy: 8831/8990 (98%)\n",
      "Epoch: 6 [ 53248]\tLoss: 0.002206All data: Mean loss: 0.0077, Accuracy: 9036/10000 (90%)\n",
      "Forget  : Mean loss: 0.0071, Accuracy: 200/1010 (20%)\n",
      "Retain  : Mean loss: 0.0007, Accuracy: 8836/8990 (98%)\n",
      "Epoch: 7 [ 53248]\tLoss: 0.032163All data: Mean loss: 0.0092, Accuracy: 8971/10000 (90%)\n",
      "Forget  : Mean loss: 0.0087, Accuracy: 96/1010 (10%)\n",
      "Retain  : Mean loss: 0.0006, Accuracy: 8875/8990 (99%)\n",
      "Epoch: 8 [ 53248]\tLoss: 0.017488All data: Mean loss: 0.0132, Accuracy: 8865/10000 (89%)\n",
      "Forget  : Mean loss: 0.0126, Accuracy: 24/1010 (2%)\n",
      "Retain  : Mean loss: 0.0007, Accuracy: 8841/8990 (98%)\n"
     ]
    }
   ],
   "source": [
    "# Train model for 10 epochs\n",
    "for epoch in range(trainingepochs+1,trainingepochs+forgetfulepochs+1):\n",
    "  # train(resnet, epoch, nonthree_train_loader, returnable=False)\n",
    "    _ = train(model, epoch, nontarget_train_loader, returnable=True)\n",
    "    test(model, all_data_test_loader, dname=\"All data\")\n",
    "    test(model, target_test_loader, dname=\"Forget  \")\n",
    "    test(model, nontarget_test_loader, dname=\"Retain  \")"
   ]
  }
 ],
 "metadata": {
  "kaggle": {
   "accelerator": "nvidiaTeslaT4",
   "dataSources": [],
   "dockerImageVersionId": 30732,
   "isGpuEnabled": true,
   "isInternetEnabled": true,
   "language": "python",
   "sourceType": "notebook"
  },
  "kernelspec": {
   "display_name": "Python 3",
   "language": "python",
   "name": "python3"
  },
  "language_info": {
   "codemirror_mode": {
    "name": "ipython",
    "version": 3
   },
   "file_extension": ".py",
   "mimetype": "text/x-python",
   "name": "python",
   "nbconvert_exporter": "python",
   "pygments_lexer": "ipython3",
   "version": "3.10.13"
  },
  "papermill": {
   "default_parameters": {},
   "duration": 221.068201,
   "end_time": "2024-07-17T18:53:35.388203",
   "environment_variables": {},
   "exception": null,
   "input_path": "__notebook__.ipynb",
   "output_path": "__notebook__.ipynb",
   "parameters": {},
   "start_time": "2024-07-17T18:49:54.320002",
   "version": "2.5.0"
  }
 },
 "nbformat": 4,
 "nbformat_minor": 5
}
