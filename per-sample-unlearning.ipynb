{
 "cells": [
  {
   "cell_type": "code",
   "execution_count": 1,
   "id": "d29f68d8",
   "metadata": {
    "_cell_guid": "18b8c3d0-01c7-4f24-a84a-0eb9e269118c",
    "_uuid": "a99b2ecd-d43b-4d60-867e-3fcb81058d24",
    "collapsed": false,
    "execution": {
     "iopub.execute_input": "2024-07-16T12:02:09.479483Z",
     "iopub.status.busy": "2024-07-16T12:02:09.479153Z",
     "iopub.status.idle": "2024-07-16T12:02:09.490065Z",
     "shell.execute_reply": "2024-07-16T12:02:09.489359Z"
    },
    "jupyter": {
     "outputs_hidden": false
    },
    "papermill": {
     "duration": 0.020257,
     "end_time": "2024-07-16T12:02:09.491936",
     "exception": false,
     "start_time": "2024-07-16T12:02:09.471679",
     "status": "completed"
    },
    "tags": []
   },
   "outputs": [],
   "source": [
    "import os\n",
    "if not os.path.exists('steps'):\n",
    "    os.mkdir('steps')"
   ]
  },
  {
   "cell_type": "code",
   "execution_count": 2,
   "id": "94f77d50",
   "metadata": {
    "execution": {
     "iopub.execute_input": "2024-07-16T12:02:09.504537Z",
     "iopub.status.busy": "2024-07-16T12:02:09.504274Z",
     "iopub.status.idle": "2024-07-16T12:02:18.344360Z",
     "shell.execute_reply": "2024-07-16T12:02:18.343084Z"
    },
    "papermill": {
     "duration": 8.849774,
     "end_time": "2024-07-16T12:02:18.347622",
     "exception": false,
     "start_time": "2024-07-16T12:02:09.497848",
     "status": "completed"
    },
    "tags": []
   },
   "outputs": [],
   "source": [
    "import torch\n",
    "import numpy as np\n",
    "from torchvision import datasets, transforms\n",
    "from torch import nn, optim\n",
    "from torch.nn import functional as F\n",
    "import torch.nn as nn\n",
    "from torch.utils.data import Dataset\n",
    "import copy\n",
    "import random\n",
    "import time\n",
    "import pickle\n",
    "from torch.nn.utils._per_sample_grad import call_for_per_sample_grads\n",
    "\n",
    "torch.set_printoptions(precision=3)\n",
    "cuda = True if torch.cuda.is_available() else False"
   ]
  },
  {
   "cell_type": "code",
   "execution_count": 3,
   "id": "056d6ac6",
   "metadata": {
    "execution": {
     "iopub.execute_input": "2024-07-16T12:02:18.363531Z",
     "iopub.status.busy": "2024-07-16T12:02:18.362474Z",
     "iopub.status.idle": "2024-07-16T12:02:18.374880Z",
     "shell.execute_reply": "2024-07-16T12:02:18.373949Z"
    },
    "papermill": {
     "duration": 0.022968,
     "end_time": "2024-07-16T12:02:18.377041",
     "exception": false,
     "start_time": "2024-07-16T12:02:18.354073",
     "status": "completed"
    },
    "tags": []
   },
   "outputs": [
    {
     "data": {
      "text/plain": [
       "<torch._C.Generator at 0x788f8d567230>"
      ]
     },
     "execution_count": 3,
     "metadata": {},
     "output_type": "execute_result"
    }
   ],
   "source": [
    "to_forget = 81\n",
    "num_classes = 100\n",
    "max_count = -1\n",
    "\n",
    "torch.manual_seed(42)"
   ]
  },
  {
   "cell_type": "code",
   "execution_count": 4,
   "id": "4b87f8d3",
   "metadata": {
    "execution": {
     "iopub.execute_input": "2024-07-16T12:02:18.389927Z",
     "iopub.status.busy": "2024-07-16T12:02:18.389652Z",
     "iopub.status.idle": "2024-07-16T12:02:23.763314Z",
     "shell.execute_reply": "2024-07-16T12:02:23.762335Z"
    },
    "papermill": {
     "duration": 5.382622,
     "end_time": "2024-07-16T12:02:23.765678",
     "exception": false,
     "start_time": "2024-07-16T12:02:18.383056",
     "status": "completed"
    },
    "tags": []
   },
   "outputs": [
    {
     "name": "stdout",
     "output_type": "stream",
     "text": [
      "Downloading https://www.cs.toronto.edu/~kriz/cifar-100-python.tar.gz to /data/cifar-100-python.tar.gz\n"
     ]
    },
    {
     "name": "stderr",
     "output_type": "stream",
     "text": [
      "100%|██████████| 169001437/169001437 [00:01<00:00, 94060149.85it/s] \n"
     ]
    },
    {
     "name": "stdout",
     "output_type": "stream",
     "text": [
      "Extracting /data/cifar-100-python.tar.gz to /data\n",
      "Files already downloaded and verified\n"
     ]
    }
   ],
   "source": [
    "class IndexingDataset(Dataset):\n",
    "    def __init__(self, internal_dataset):\n",
    "        self.dataset = internal_dataset\n",
    "        \n",
    "    def __len__(self):\n",
    "        return len(self.dataset)\n",
    "    \n",
    "    def __getitem__(self, sample_index):\n",
    "        r = self.dataset[sample_index]\n",
    "        if not isinstance(r, tuple):\n",
    "            r = (r,)\n",
    "        return *r, sample_index\n",
    "    \n",
    "# Transform image to tensor and normalize features from [0,255] to [0,1]\n",
    "transform = transforms.Compose([transforms.ToTensor(), \n",
    "                                transforms.Normalize((0.5,),(0.5,)),\n",
    "                                ])\n",
    "\n",
    "# Using MNIST\n",
    "data = datasets.CIFAR100('/data', download=True, train=True, transform=transform)\n",
    "traindata = IndexingDataset(data)\n",
    "testdata = datasets.CIFAR100('/data', download=True, train=False, transform=transform)"
   ]
  },
  {
   "cell_type": "code",
   "execution_count": 5,
   "id": "ea5c06eb",
   "metadata": {
    "execution": {
     "iopub.execute_input": "2024-07-16T12:02:23.782672Z",
     "iopub.status.busy": "2024-07-16T12:02:23.782372Z",
     "iopub.status.idle": "2024-07-16T12:02:47.312731Z",
     "shell.execute_reply": "2024-07-16T12:02:47.311745Z"
    },
    "papermill": {
     "duration": 23.541372,
     "end_time": "2024-07-16T12:02:47.315210",
     "exception": false,
     "start_time": "2024-07-16T12:02:23.773838",
     "status": "completed"
    },
    "tags": []
   },
   "outputs": [],
   "source": [
    "# Loaders that give 64 example batches\n",
    "all_data_train_loader = torch.utils.data.DataLoader(traindata, batch_size=64, shuffle=True)\n",
    "all_data_test_loader = torch.utils.data.DataLoader(testdata, batch_size=64, shuffle=False)\n",
    "\n",
    "target_index = []\n",
    "nontarget_index = []\n",
    "for i in range(0, len(testdata)):\n",
    "    if testdata[i][1] == to_forget:\n",
    "        target_index.append(i)\n",
    "    else:\n",
    "        nontarget_index.append(i)\n",
    "target_test_loader = torch.utils.data.DataLoader(testdata, batch_size=64,\n",
    "              sampler = torch.utils.data.SubsetRandomSampler(target_index))\n",
    "nontarget_test_loader = torch.utils.data.DataLoader(testdata, batch_size=64,\n",
    "              sampler = torch.utils.data.SubsetRandomSampler(nontarget_index))\n",
    "\n",
    "target_index = []\n",
    "nontarget_index = []\n",
    "count = 0\n",
    "for i in range(0, len(traindata)):\n",
    "    if traindata[i][1] != to_forget:\n",
    "        target_index.append(i)\n",
    "        nontarget_index.append(i)\n",
    "    if traindata[i][1] == to_forget and (count < max_count or max_count < 1):\n",
    "        count += 1\n",
    "        target_index.append(i)\n",
    "target_train_loader = torch.utils.data.DataLoader(traindata, batch_size=64,\n",
    "                     sampler = torch.utils.data.SubsetRandomSampler(target_index))\n",
    "nontarget_train_loader = torch.utils.data.DataLoader(traindata, batch_size=64,\n",
    "                     sampler = torch.utils.data.SubsetRandomSampler(nontarget_index))\n",
    "\n",
    "\n",
    "unlearningdata = copy.deepcopy(data)\n",
    "unlearninglabels = list(range(num_classes))\n",
    "unlearninglabels.remove(to_forget)\n",
    "for i in range(len(unlearningdata)):\n",
    "    if unlearningdata.targets[i] == to_forget:\n",
    "        unlearningdata.targets[i] = random.choice(unlearninglabels)\n",
    "unlearning_train_loader = torch.utils.data.DataLoader(IndexingDataset(unlearningdata), batch_size=64, shuffle=True)"
   ]
  },
  {
   "cell_type": "code",
   "execution_count": 6,
   "id": "d7967530",
   "metadata": {
    "execution": {
     "iopub.execute_input": "2024-07-16T12:02:47.333631Z",
     "iopub.status.busy": "2024-07-16T12:02:47.333310Z",
     "iopub.status.idle": "2024-07-16T12:02:47.342105Z",
     "shell.execute_reply": "2024-07-16T12:02:47.341334Z"
    },
    "papermill": {
     "duration": 0.019624,
     "end_time": "2024-07-16T12:02:47.344058",
     "exception": false,
     "start_time": "2024-07-16T12:02:47.324434",
     "status": "completed"
    },
    "tags": []
   },
   "outputs": [],
   "source": [
    "class SimpleModel(nn.Module):\n",
    "    def __init__(self, in_size, out_size, h_size=100):\n",
    "        super().__init__()\n",
    "        \n",
    "        self.in_size = in_size\n",
    "        self.out_size = out_size\n",
    "        self.h_size = h_size\n",
    "        \n",
    "        self.layers = nn.Sequential(\n",
    "            nn.Conv2d(in_size, h_size, 3, 2, padding=1),\n",
    "            nn.LeakyReLU(.1),\n",
    "            nn.Conv2d(h_size, h_size, 3, 2, padding=1),\n",
    "            nn.LeakyReLU(.1),\n",
    "            nn.AdaptiveMaxPool2d((2,2)),\n",
    "            nn.Flatten(1),\n",
    "            nn.Linear(4 * h_size, out_size)\n",
    "        )\n",
    "        \n",
    "        nn.init.xavier_normal_(self.layers[0].weight)\n",
    "        nn.init.zeros_(self.layers[0].bias)\n",
    "        nn.init.xavier_normal_(self.layers[2].weight)\n",
    "        nn.init.zeros_(self.layers[2].bias)\n",
    "        nn.init.xavier_normal_(self.layers[6].weight)\n",
    "        nn.init.zeros_(self.layers[6].bias)\n",
    "        \n",
    "    def forward(self, x):\n",
    "        return self.layers(x)"
   ]
  },
  {
   "cell_type": "code",
   "execution_count": 7,
   "id": "7105f99c",
   "metadata": {
    "execution": {
     "iopub.execute_input": "2024-07-16T12:02:47.361182Z",
     "iopub.status.busy": "2024-07-16T12:02:47.360923Z",
     "iopub.status.idle": "2024-07-16T12:02:47.365298Z",
     "shell.execute_reply": "2024-07-16T12:02:47.364363Z"
    },
    "papermill": {
     "duration": 0.015448,
     "end_time": "2024-07-16T12:02:47.367470",
     "exception": false,
     "start_time": "2024-07-16T12:02:47.352022",
     "status": "completed"
    },
    "tags": []
   },
   "outputs": [],
   "source": [
    "# Hyperparameters\n",
    "batch_size_train = 64\n",
    "batch_size_test = 64\n",
    "log_interval = 16\n",
    "P=.01\n",
    "torch.backends.cudnn.enabled = True\n",
    "criterion = F.cross_entropy"
   ]
  },
  {
   "cell_type": "code",
   "execution_count": 8,
   "id": "64d263e1",
   "metadata": {
    "execution": {
     "iopub.execute_input": "2024-07-16T12:02:47.383489Z",
     "iopub.status.busy": "2024-07-16T12:02:47.383230Z",
     "iopub.status.idle": "2024-07-16T12:02:47.395227Z",
     "shell.execute_reply": "2024-07-16T12:02:47.394520Z"
    },
    "papermill": {
     "duration": 0.022201,
     "end_time": "2024-07-16T12:02:47.397092",
     "exception": false,
     "start_time": "2024-07-16T12:02:47.374891",
     "status": "completed"
    },
    "tags": []
   },
   "outputs": [],
   "source": [
    "# Training method\n",
    "def train(model, epoch, loader, returnable=False, keep_p=.1):\n",
    "    model.train()\n",
    "    if returnable:\n",
    "        batches = []\n",
    "    for batch_idx, (data, target, samples_idx) in enumerate(loader):\n",
    "        for param in model.parameters():\n",
    "            param.grad_sample = None\n",
    "        output = call_for_per_sample_grads(model)(data)\n",
    "        loss = criterion(output, target)\n",
    "        loss.backward()\n",
    "        with torch.no_grad():\n",
    "            for param in model.parameters():\n",
    "                param.grad = param.grad_sample.sum(0)\n",
    "                \n",
    "        optimizer.step()\n",
    "        \n",
    "        with torch.no_grad():\n",
    "            for i, sample_idx in enumerate(samples_idx[target == to_forget].tolist()):\n",
    "                rng = np.random.default_rng(sample_idx)\n",
    "                batches.append(sample_idx)\n",
    "                step = {}\n",
    "                if epoch > 1:\n",
    "                    f = open(f\"steps/{sample_idx:04}.pkl\", \"rb\")\n",
    "                    step = pickle.load(f)\n",
    "                    f.close()\n",
    "                for key, param in model.named_parameters():\n",
    "                    diff = param.grad_sample[i].flatten()\n",
    "                    size = diff.shape.numel()\n",
    "                    subset = rng.choice(size, int(size * keep_p), replace=False, shuffle=False)\n",
    "                    step[key] = step.get(key, 0) + diff[subset]\n",
    "                f = open(f\"steps/{sample_idx:04}.pkl\", \"wb\")\n",
    "                pickle.dump(step, f)\n",
    "                f.close()\n",
    "        if batch_idx % log_interval == 0:\n",
    "            print(\"\\rEpoch: {} [{:6d}]\\tLoss: {:.6f}\".format(\n",
    "              epoch, batch_idx*len(data),  loss.item()), end=\"\")\n",
    "    if returnable:\n",
    "        return batches"
   ]
  },
  {
   "cell_type": "code",
   "execution_count": 9,
   "id": "5e4ebe24",
   "metadata": {
    "execution": {
     "iopub.execute_input": "2024-07-16T12:02:47.413142Z",
     "iopub.status.busy": "2024-07-16T12:02:47.412884Z",
     "iopub.status.idle": "2024-07-16T12:02:47.419615Z",
     "shell.execute_reply": "2024-07-16T12:02:47.418817Z"
    },
    "papermill": {
     "duration": 0.016899,
     "end_time": "2024-07-16T12:02:47.421487",
     "exception": false,
     "start_time": "2024-07-16T12:02:47.404588",
     "status": "completed"
    },
    "tags": []
   },
   "outputs": [],
   "source": [
    "# Testing method\n",
    "def test(model, loader, dname=\"Test set\", printable=True):\n",
    "    model.eval()\n",
    "    test_loss = 0\n",
    "    total = 0\n",
    "    correct = 0\n",
    "    with torch.no_grad():\n",
    "        for data, target in loader:\n",
    "            output = model(data)\n",
    "            total += target.size()[0]\n",
    "            test_loss += criterion(output, target).item()\n",
    "            pred = output.data.max(1, keepdim=True)[1]\n",
    "            correct += pred.eq(target.data.view_as(pred)).sum()\n",
    "    test_loss /= len(loader.dataset)\n",
    "    if printable:\n",
    "        print('{}: Mean loss: {:.4f}, Accuracy: {}/{} ({:.0f}%)'.format(\n",
    "            dname, test_loss, correct, total, \n",
    "            100. * correct / total\n",
    "            ))\n",
    "    return 1. * correct / total"
   ]
  },
  {
   "cell_type": "code",
   "execution_count": 10,
   "id": "095d8515",
   "metadata": {
    "execution": {
     "iopub.execute_input": "2024-07-16T12:02:47.438543Z",
     "iopub.status.busy": "2024-07-16T12:02:47.438286Z",
     "iopub.status.idle": "2024-07-16T12:02:47.441786Z",
     "shell.execute_reply": "2024-07-16T12:02:47.440956Z"
    },
    "papermill": {
     "duration": 0.014501,
     "end_time": "2024-07-16T12:02:47.443613",
     "exception": false,
     "start_time": "2024-07-16T12:02:47.429112",
     "status": "completed"
    },
    "tags": []
   },
   "outputs": [],
   "source": [
    "trainingepochs = 4\n",
    "forgetfulepochs = 4"
   ]
  },
  {
   "cell_type": "code",
   "execution_count": 11,
   "id": "bdbef917",
   "metadata": {
    "execution": {
     "iopub.execute_input": "2024-07-16T12:02:47.460224Z",
     "iopub.status.busy": "2024-07-16T12:02:47.459971Z",
     "iopub.status.idle": "2024-07-16T12:02:47.482018Z",
     "shell.execute_reply": "2024-07-16T12:02:47.481296Z"
    },
    "papermill": {
     "duration": 0.032495,
     "end_time": "2024-07-16T12:02:47.483854",
     "exception": false,
     "start_time": "2024-07-16T12:02:47.451359",
     "status": "completed"
    },
    "tags": []
   },
   "outputs": [],
   "source": [
    "# load resnet 18 and change to fit problem dimensionality\n",
    "model = SimpleModel(3, num_classes)\n",
    "#resnet.conv1 = nn.Conv2d(1, 64, kernel_size=(7,7), stride=(2,2), padding=(3,3), bias=False)\n",
    "#resnet.fc = nn.Sequential(nn.Linear(512, num_classes))\n",
    "optimizer = optim.Adam(model.parameters())"
   ]
  },
  {
   "cell_type": "code",
   "execution_count": 12,
   "id": "6eaf9f0c",
   "metadata": {
    "execution": {
     "iopub.execute_input": "2024-07-16T12:02:47.500044Z",
     "iopub.status.busy": "2024-07-16T12:02:47.499805Z",
     "iopub.status.idle": "2024-07-16T12:06:23.250409Z",
     "shell.execute_reply": "2024-07-16T12:06:23.249394Z"
    },
    "papermill": {
     "duration": 215.785488,
     "end_time": "2024-07-16T12:06:23.276843",
     "exception": false,
     "start_time": "2024-07-16T12:02:47.491355",
     "status": "completed"
    },
    "tags": []
   },
   "outputs": [
    {
     "name": "stdout",
     "output_type": "stream",
     "text": [
      "Epoch: 1 [ 49152]\tLoss: 3.275319[20226, 16857, 9956, 48461, 27114, 40790, 6258, 14648, 36, 18265, 43537, 26308, 37252, 13258, 45585, 18330, 45157, 29483, 503, 32625, 39498, 41444, 46697, 40161, 37599, 49479, 37465, 7554, 25500, 20967, 35119, 8699, 42555, 36593, 16778, 15933, 31364, 30059, 38528, 37260, 15624, 6337, 34261, 1241, 2097, 3009, 13060, 23331, 13014, 11546, 6214, 11575, 489, 1641, 23159, 10180, 24444, 25909, 36497, 14377, 32141, 41549, 39219, 11885, 47568, 12480, 12683, 1943, 49309, 14235, 19383, 48199, 38982, 25308, 36296, 6998, 29408, 654, 12539, 33414, 975, 39868, 24756, 7023, 37917, 27139, 29499, 31180, 34026, 27129, 12246, 6172, 31393, 196, 36724, 39398, 15521, 40957, 10222, 37364, 7208, 20470, 17913, 22076, 9789, 18708, 12077, 48259, 21463, 16877, 2132, 29252, 12395, 21151, 7370, 7612, 18735, 31655, 12346, 21829, 12195, 33201, 3871, 21025, 27845, 43371, 49742, 4954, 36433, 31727, 24481, 24669, 22504, 45865, 31466, 38668, 28774, 16318, 19430, 4904, 24965, 13603, 14809, 19095, 8799, 1105, 19109, 37849, 234, 38827, 34777, 21118, 37372, 14621, 33428, 5633, 13354, 6391, 18363, 12588, 45181, 11681, 21965, 3335, 41633, 24275, 24801, 13592, 4955, 46119, 37741, 29951, 28000, 14183, 45143, 20081, 12688, 22512, 2596, 18771, 2841, 22692, 26745, 40631, 34156, 36046, 1412, 35648, 13510, 40920, 9106, 35547, 30409, 47272, 14338, 43447, 32109, 14053, 49473, 33718, 22889, 6023, 34515, 46366, 5547, 18666, 34514, 10897, 41192, 41333, 14858, 12638, 20783, 47807, 7533, 24532, 39604, 21003, 37894, 34407, 48004, 31782, 10208, 8276, 28906, 32140, 673, 39819, 45736, 37290, 33323, 26928, 6847, 22144, 2377, 14232, 7373, 46637, 25168, 23286, 28151, 20278, 28838, 29751, 1481, 40369, 18656, 28820, 18730, 29415, 186, 28670, 21157, 47989, 40965, 29231, 38594, 17715, 21021, 35102, 23171, 46294, 45901, 44249, 39790, 23287, 43450, 47627, 8559, 23360, 24135, 11566, 19916, 9275, 8622, 26265, 5782, 32660, 36826, 42358, 6151, 35221, 5539, 14144, 16503, 48948, 20657, 49323, 10042, 30677, 9916, 1429, 40259, 37829, 41112, 7466, 31606, 21905, 40930, 15308, 27527, 48255, 18325, 32821, 40958, 39373, 44761, 9254, 25732, 47817, 26074, 11939, 38079, 24743, 17952, 40218, 2263, 49343, 46266, 27776, 22344, 9348, 22191, 3401, 35460, 14088, 34666, 44247, 34398, 26045, 25283, 38090, 30151, 17474, 9281, 49643, 6715, 25894, 20328, 43532, 42418, 17046, 9408, 47237, 3369, 33016, 25981, 25857, 16336, 14290, 22025, 11223, 18037, 12523, 29797, 43827, 48815, 22395, 39408, 38053, 5709, 20185, 10584, 8873, 4925, 19993, 20578, 6209, 19599, 3344, 22308, 48196, 39292, 41707, 28913, 29807, 22260, 1395, 36359, 26606, 8760, 40563, 20715, 18389, 21919, 40904, 42926, 16325, 49232, 49213, 14006, 27886, 19146, 47085, 20504, 9535, 47035, 675, 2156, 24001, 43513, 30362, 24951, 12746, 28071, 13364, 42524, 6946, 22582, 29471, 30437, 15252, 44891, 20148, 19400, 7428, 15119, 31611, 39569, 11619, 35097, 27099, 43655, 27367, 25384, 49830, 4538, 6997, 9780, 20392, 22966, 14690, 16078, 27479, 20487, 45200, 42338, 12565, 43892, 8976, 41277, 27896, 8668, 9593, 783, 40255, 26521, 30920, 29562, 49179, 25963, 40177, 17469, 13158, 23803, 46002, 11135, 25550, 35026, 4599, 14600, 45491, 11247, 47154, 14660, 14578, 34738, 13015, 41058, 37864, 8321, 20400, 26025, 9696, 19211, 29516, 34460, 3802, 15706, 18774, 40881, 48066, 11347, 28607, 11675, 49102, 40070, 30365, 22393, 16499, 28908, 15149, 14454, 33573, 24640, 12661, 3232, 12751, 37969, 23507] batches effected\n",
      "All data: Mean loss: 0.0523, Accuracy: 2176/10000 (22%)\n",
      "Forget  : Mean loss: 0.0006, Accuracy: 16/100 (16%)\n",
      "Retain  : Mean loss: 0.0517, Accuracy: 2160/9900 (22%)\n",
      "Time taken: 105.57626082099999\n",
      "Epoch: 2 [ 49152]\tLoss: 2.824928[7428, 975, 17474, 19146, 28908, 43532, 48066, 9348, 33414, 31364, 10584, 18363, 27845, 28820, 10042, 39373, 6258, 9281, 489, 34407, 13158, 20392, 186, 2263, 20185, 22144, 27129, 37372, 7023, 36, 3344, 24481, 33718, 675, 47817, 18771, 13603, 27479, 24743, 21919, 18325, 32625, 40177, 39569, 29252, 6151, 30437, 17952, 35648, 30151, 17046, 45491, 33573, 8799, 23159, 48948, 234, 12523, 41333, 40218, 28071, 14600, 2596, 24951, 6997, 38982, 15933, 15149, 34777, 14621, 32821, 47272, 2132, 40958, 12588, 47085, 14235, 20487, 18735, 21905, 38827, 14144, 33201, 14088, 49643, 46002, 35119, 14338, 16336, 24669, 16877, 38053, 24135, 25894, 16778, 7208, 23171, 20148, 40904, 29516, 44247, 15252, 37465, 48815, 20967, 41277, 27114, 7554, 4599, 45901, 44249, 16499, 503, 44891, 32660, 7466, 6847, 3401, 30365, 15119, 4954, 17469, 18730, 22692, 41058, 38528, 11135, 25732, 37290, 12346, 24275, 37252, 34738, 43513, 6998, 37894, 25168, 5709, 6172, 8559, 12195, 7533, 45143, 24532, 8622, 2156, 20278, 17715, 34460, 21003, 27776, 35547, 40920, 46366, 45200, 6023, 22512, 6715, 39868, 36826, 44761, 42524, 31782, 1105, 43447, 28774, 29499, 36296, 673, 14006, 39398, 22395, 31393, 31180, 6391, 35460, 16078, 49343, 26521, 34156, 13354, 24756, 49479, 42926, 13510, 1429, 27896, 40930, 12746, 27527, 19400, 30920, 48255, 33428, 40259, 45157, 8699, 25963, 45585, 28151, 47154, 8760, 18774, 34666, 12539, 48196, 39498, 38090, 36433, 42338, 26025, 14377, 38079, 3369, 43371, 41549, 40631, 41192, 30677, 13014, 49830, 34398, 11566, 37829, 40070, 14648, 36724, 1641, 5633, 46637, 42418, 40957, 22966, 11247, 12688, 26606, 16857, 21021, 38594, 21463, 23331, 28607, 32140, 30362, 25308, 1241, 20578, 28838, 21151, 14290, 32109, 19211, 37260, 11575, 20783, 46266, 27886, 9593, 10897, 18666, 31606, 40255, 48199, 25283, 29797, 22076, 11939, 41707, 48004, 30059, 31611, 3232, 29415, 20328, 22889, 9696, 11619, 22504, 654, 14690, 21118, 25384, 196, 2377, 9916, 26308, 19109, 2097, 49742, 34261, 41633, 34515, 6946, 37864, 29483, 40965, 23360, 13364, 13258, 9408, 19599, 27367, 1395, 35102, 29231, 45181, 2841, 19916, 47568, 41112, 4925, 37364, 23286, 47035, 45736, 6214, 47989, 15706, 47627, 22308, 9275, 20400, 5539, 18037, 29408, 30409, 38668, 24001, 36359, 39292, 23803, 14660, 8276, 10180, 7370, 12638, 4955, 29471, 9956, 25550, 11223, 12661, 37849, 28000, 12683, 11546, 8668, 23507, 4904, 37969, 25909, 19095, 14053, 49213, 4538, 20081, 26928, 25857, 47237, 39408, 7373, 11681, 34026, 24444, 47807, 6337, 14858, 23287, 26745, 49323, 25500, 14578, 17913, 9254, 46294, 35026, 40563, 46697, 43655, 21965, 1943, 31655, 22393, 39604, 18330, 26045, 5547, 22025, 12246, 40881, 14183, 46119, 37917, 5782, 49473, 39219, 3335, 3802, 36497, 1481, 12395, 49179, 11885, 24640, 22260, 3009, 20226, 41444, 12480, 20715, 13015, 15521, 9780, 24965, 13060, 18265, 40369, 43827, 28913, 11675, 48259, 27139, 12565, 10208, 18389, 20504, 9106, 3871, 20657, 45865, 42358, 34514, 16325, 27099, 14809, 28670, 35221, 783, 19383, 49102, 43537, 40161, 29562, 16318, 31466, 11347, 25981, 8873, 21025, 29951, 1412, 36593, 18708, 22191, 14232, 21829, 31727, 9789, 20470, 48461, 14454, 15624, 49309, 43892, 24801, 16503, 19430, 21157, 33016, 6209, 37741, 36046, 9535, 33323, 40790, 39790, 42555, 26265, 32141, 29751, 13592, 28906, 12077, 37599, 35097, 8976, 22582, 29807, 22344, 19993, 18656, 26074, 43450, 12751, 49232, 15308, 8321, 10222, 7612, 39819] batches effected\n",
      "All data: Mean loss: 0.0467, Accuracy: 2821/10000 (28%)\n",
      "Forget  : Mean loss: 0.0006, Accuracy: 20/100 (20%)\n",
      "Retain  : Mean loss: 0.0461, Accuracy: 2801/9900 (28%)\n",
      "Time taken: 104.4083378\n",
      "Epoch: 3 [ 49152]\tLoss: 2.654099[33201, 18037, 7612, 9254, 48196, 10180, 25963, 25500, 42524, 31466, 22692, 8799, 673, 45200, 41707, 6172, 18774, 45491, 37917, 6715, 21003, 3871, 38982, 6151, 17474, 15624, 49473, 17715, 37465, 19383, 12688, 9789, 12638, 9281, 33016, 8321, 41333, 30920, 7370, 32821, 25308, 45143, 22076, 4904, 15119, 40070, 16503, 22889, 34460, 1481, 40177, 8873, 9593, 27896, 22504, 12588, 24481, 43827, 34514, 3369, 39819, 30437, 46294, 27527, 28151, 14053, 26606, 14621, 22582, 48199, 44247, 42418, 28607, 37260, 23171, 14648, 48004, 23287, 24001, 18708, 8276, 40161, 11619, 39219, 43447, 18656, 9535, 29751, 31393, 47154, 20657, 40958, 36497, 28820, 28838, 4599, 47272, 39292, 36724, 8559, 40965, 31782, 49643, 37290, 27845, 35221, 11675, 40563, 18325, 43513, 31655, 46697, 25894, 20081, 19599, 27099, 41444, 49479, 186, 20328, 13364, 38827, 39569, 12077, 48255, 14454, 25857, 14290, 5547, 21905, 26074, 10208, 27479, 14578, 18771, 22512, 7466, 16078, 38053, 10042, 18389, 2097, 23360, 47085, 28906, 3401, 46637, 48259, 35097, 13510, 975, 44891, 28774, 11681, 2841, 15308, 11135, 37894, 41192, 23286, 22260, 18363, 23159, 12480, 36, 234, 22395, 40218, 47807, 22144, 39604, 8976, 38668, 42926, 33428, 18735, 1429, 28000, 13014, 14660, 6998, 6847, 20226, 19211, 4538, 24965, 44761, 43532, 14809, 17913, 39790, 40790, 29231, 45865, 16857, 46266, 1395, 21829, 37372, 503, 29471, 25168, 25384, 29516, 35648, 783, 9408, 30362, 14183, 3344, 4954, 12683, 10222, 24135, 7554, 12523, 6391, 39373, 6337, 11347, 29415, 22393, 25909, 24640, 25550, 26025, 34156, 27886, 1241, 12346, 42338, 35460, 11885, 10584, 49179, 32660, 14690, 37969, 48948, 24801, 5539, 40255, 15252, 13592, 7208, 39868, 34398, 6997, 41277, 7023, 14338, 3232, 14088, 32141, 29562, 33573, 31180, 43450, 49830, 34738, 40904, 40920, 40369, 46366, 14006, 24951, 5709, 28908, 12746, 8668, 28913, 41058, 13354, 22966, 19109, 489, 21463, 37364, 15933, 22191, 20185, 30365, 12246, 25981, 16778, 20967, 3335, 40930, 49323, 2596, 37829, 11223, 13060, 1641, 9106, 5633, 45585, 20504, 49742, 40259, 11546, 27367, 30059, 34666, 39498, 10897, 41112, 31611, 30151, 46119, 34261, 35102, 14600, 27139, 30409, 42555, 20278, 29483, 32625, 13258, 13603, 11575, 29951, 32109, 19146, 16325, 12751, 26045, 16499, 24275, 35547, 11939, 37849, 37599, 12565, 29252, 49102, 30677, 34026, 23803, 17046, 6023, 44249, 20578, 16318, 2377, 33718, 47989, 1412, 20715, 40957, 8622, 18265, 654, 24669, 41633, 36433, 39398, 48066, 43892, 17469, 47035, 8760, 37741, 25283, 46002, 22308, 22344, 15521, 28071, 9780, 33414, 14232, 2156, 49343, 14235, 6258, 38079, 19400, 37864, 7373, 20148, 15706, 47568, 49309, 36296, 20783, 27129, 8699, 48461, 43371, 19993, 21919, 16336, 20392, 47627, 36593, 29499, 34407, 19430, 21965, 36359, 41549, 18666, 29408, 4925, 14144, 47237, 36046, 35026, 7533, 29807, 34515, 7428, 196, 21118, 31606, 9956, 5782, 38090, 24532, 21021, 19095, 16877, 19916, 2263, 1105, 20487, 28670, 20400, 20470, 26308, 11247, 3802, 35119, 26521, 6214, 38594, 12661, 23331, 39408, 11566, 13015, 40881, 37252, 48815, 22025, 36826, 25732, 32140, 43655, 47817, 12195, 21025, 21157, 43537, 14858, 31364, 21151, 9696, 45157, 33323, 29797, 45736, 45901, 17952, 9916, 18330, 1943, 14377, 31727, 38528, 49213, 23507, 12395, 24743, 26265, 24444, 24756, 18730, 27776, 34777, 42358, 9275, 13158, 45181, 26745, 15149, 40631, 26928, 6946, 12539, 9348, 27114, 49232, 675, 3009, 4955, 2132, 6209] batches effected\n",
      "All data: Mean loss: 0.0448, Accuracy: 3047/10000 (30%)\n",
      "Forget  : Mean loss: 0.0006, Accuracy: 22/100 (22%)\n",
      "Retain  : Mean loss: 0.0442, Accuracy: 3025/9900 (31%)\n",
      "Time taken: 104.34426930700002\n",
      "Epoch: 4 [ 49152]\tLoss: 2.469593[9956, 26025, 8276, 28913, 48066, 46697, 2841, 40563, 24965, 9593, 39219, 23331, 46366, 20278, 18771, 18730, 17913, 37894, 13258, 22260, 27367, 29408, 40369, 36, 1429, 38982, 48196, 675, 14232, 234, 11223, 9348, 29499, 35097, 11546, 31727, 25168, 503, 12688, 13015, 36497, 12539, 6337, 33016, 27896, 38528, 48259, 43447, 15706, 12395, 39790, 21151, 10208, 24532, 36046, 49102, 18774, 38079, 7023, 37465, 28908, 16857, 44249, 19599, 9780, 24481, 18735, 11247, 6172, 29951, 22393, 3802, 29797, 35119, 40920, 25981, 33201, 28000, 18389, 9281, 9408, 46266, 45200, 5633, 46002, 25894, 38090, 40881, 21003, 4954, 12565, 17715, 9916, 17952, 13364, 37849, 18037, 42555, 23171, 12480, 20470, 46119, 47085, 29562, 26928, 47154, 22191, 9535, 14290, 35547, 2596, 2377, 35102, 19430, 14648, 43655, 31782, 20328, 16503, 29751, 24135, 49232, 28906, 3369, 21025, 32140, 6209, 12683, 31655, 5782, 41058, 31180, 26606, 42338, 41112, 14660, 13158, 14377, 10897, 26265, 34515, 654, 37864, 1481, 3232, 40631, 12523, 37372, 19095, 24756, 6997, 31393, 15149, 8668, 24275, 10180, 14144, 25909, 2263, 38053, 39604, 13060, 196, 25384, 11681, 23159, 12746, 21965, 15252, 20504, 40930, 22966, 14235, 18666, 24640, 7612, 49309, 24444, 33323, 30362, 49830, 18363, 33428, 1641, 25283, 32660, 1395, 28151, 44761, 36724, 7208, 30920, 48199, 14600, 23286, 14338, 42926, 30409, 1241, 43537, 40904, 31466, 34460, 25963, 42418, 27114, 16877, 10222, 20148, 27099, 49742, 32625, 25857, 37829, 49213, 6715, 25500, 7466, 43513, 46637, 7554, 14809, 47272, 16778, 11347, 14006, 5709, 36826, 42358, 6214, 21829, 44247, 33573, 35648, 26074, 6847, 4925, 47035, 16078, 23803, 30437, 15624, 39408, 27129, 22889, 29231, 43450, 24001, 36433, 32821, 35221, 38827, 40790, 13592, 26745, 20400, 19146, 23287, 45865, 12077, 3401, 15521, 37741, 21118, 24801, 3344, 41633, 11619, 1105, 20226, 37917, 37260, 11135, 6946, 34156, 44891, 45181, 19993, 17469, 19109, 43827, 41444, 2097, 40957, 12588, 49179, 16336, 8873, 30059, 29807, 47817, 6151, 34738, 20578, 15933, 39398, 47807, 1412, 34261, 39373, 43532, 22025, 17474, 22692, 39819, 33414, 5547, 25550, 18330, 48948, 36593, 39569, 11675, 489, 45901, 36359, 16325, 29415, 8622, 3871, 48815, 26308, 22395, 7373, 13014, 9254, 41192, 30677, 39868, 22504, 37252, 40218, 8799, 7370, 32141, 12246, 31606, 11885, 7428, 37290, 40177, 14088, 9789, 23360, 24743, 8559, 783, 18708, 27845, 975, 19400, 6998, 28774, 45736, 47237, 6023, 32109, 21463, 27479, 14454, 28838, 18265, 22344, 33718, 43892, 43371, 27527, 20185, 42524, 28071, 41277, 19916, 6258, 26045, 21021, 12346, 36296, 16318, 20081, 14183, 4599, 41549, 21157, 4955, 28607, 29252, 14858, 4904, 40255, 10584, 18656, 3335, 23507, 34514, 37969, 5539, 28820, 22076, 12751, 11566, 21905, 40965, 49643, 34666, 21919, 9696, 15119, 34407, 48004, 2132, 39292, 31364, 6391, 22308, 18325, 45157, 20487, 4538, 29516, 14578, 25308, 17046, 28670, 13354, 47568, 19211, 26521, 16499, 34398, 3009, 20967, 40070, 13510, 40958, 45491, 30151, 25732, 49479, 8321, 45585, 29483, 29471, 12638, 22512, 45143, 14621, 20392, 48461, 24669, 22582, 7533, 38668, 38594, 22144, 24951, 34026, 14690, 40259, 37599, 47989, 2156, 20715, 30365, 1943, 27776, 35026, 34777, 37364, 41333, 186, 40161, 9275, 8699, 49473, 14053, 20657, 673, 11575, 13603, 35460, 39498, 20783, 48255, 15308, 46294, 49343, 49323, 12661, 9106, 47627, 11939, 10042, 8976, 8760, 27139, 31611, 19383, 41707, 27886, 12195] batches effected\n",
      "All data: Mean loss: 0.0431, Accuracy: 3256/10000 (33%)\n",
      "Forget  : Mean loss: 0.0005, Accuracy: 22/100 (22%)\n",
      "Retain  : Mean loss: 0.0425, Accuracy: 3234/9900 (33%)\n",
      "Time taken: 104.32438428399996\n"
     ]
    }
   ],
   "source": [
    "# Train new model for 5 epochs\n",
    "epoch_indices = []\n",
    "for epoch in range(1, trainingepochs+1):\n",
    "    starttime = time.process_time()\n",
    "    # train(resnet, epoch, all_data_train_loader, returnable=False)\n",
    "    batches = train(model, epoch, target_train_loader, returnable=True, keep_p=P)\n",
    "    print(f\"{batches} batches effected\")\n",
    "    epoch_indices.append(batches)\n",
    "    test(model, all_data_test_loader, dname=\"All data\")\n",
    "    test(model, target_test_loader, dname=\"Forget  \")\n",
    "    test(model, nontarget_test_loader, dname=\"Retain  \")\n",
    "    print(f\"Time taken: {time.process_time() - starttime}\")"
   ]
  },
  {
   "cell_type": "code",
   "execution_count": 13,
   "id": "580b47fb",
   "metadata": {
    "execution": {
     "iopub.execute_input": "2024-07-16T12:06:23.325019Z",
     "iopub.status.busy": "2024-07-16T12:06:23.324661Z",
     "iopub.status.idle": "2024-07-16T12:06:23.335386Z",
     "shell.execute_reply": "2024-07-16T12:06:23.334499Z"
    },
    "papermill": {
     "duration": 0.037137,
     "end_time": "2024-07-16T12:06:23.337504",
     "exception": false,
     "start_time": "2024-07-16T12:06:23.300367",
     "status": "completed"
    },
    "tags": []
   },
   "outputs": [],
   "source": [
    "path = F\"selective_trained.pt\"\n",
    "torch.save({\n",
    "            'model_state_dict': model.state_dict(),\n",
    "            'optimizer_state_dict': optimizer.state_dict(),\n",
    "            }, path)"
   ]
  },
  {
   "cell_type": "code",
   "execution_count": 14,
   "id": "f58a9f05",
   "metadata": {
    "execution": {
     "iopub.execute_input": "2024-07-16T12:06:23.386614Z",
     "iopub.status.busy": "2024-07-16T12:06:23.386307Z",
     "iopub.status.idle": "2024-07-16T12:06:23.394306Z",
     "shell.execute_reply": "2024-07-16T12:06:23.393481Z"
    },
    "papermill": {
     "duration": 0.034592,
     "end_time": "2024-07-16T12:06:23.396341",
     "exception": false,
     "start_time": "2024-07-16T12:06:23.361749",
     "status": "completed"
    },
    "tags": []
   },
   "outputs": [],
   "source": [
    "path = F\"selective_trained.pt\"\n",
    "checkpoint = torch.load(path)\n",
    "model.load_state_dict(checkpoint['model_state_dict'])\n",
    "optimizer.load_state_dict(checkpoint['optimizer_state_dict'])"
   ]
  },
  {
   "cell_type": "code",
   "execution_count": 15,
   "id": "7e41337c",
   "metadata": {
    "execution": {
     "iopub.execute_input": "2024-07-16T12:06:23.445621Z",
     "iopub.status.busy": "2024-07-16T12:06:23.445347Z",
     "iopub.status.idle": "2024-07-16T12:06:24.202271Z",
     "shell.execute_reply": "2024-07-16T12:06:24.201363Z"
    },
    "papermill": {
     "duration": 0.782866,
     "end_time": "2024-07-16T12:06:24.204153",
     "exception": false,
     "start_time": "2024-07-16T12:06:23.421287",
     "status": "completed"
    },
    "tags": []
   },
   "outputs": [
    {
     "name": "stdout",
     "output_type": "stream",
     "text": [
      "Loading steps/23507.pkl"
     ]
    }
   ],
   "source": [
    "for j in epoch_indices[0]:\n",
    "    path = f\"steps/{j:04}.pkl\"\n",
    "    f = open(path, \"rb\")\n",
    "    steps = pickle.load(f)\n",
    "    f.close()\n",
    "    print(f\"\\rLoading steps/{j:04}.pkl\", end=\"\")\n",
    "    const = 1\n",
    "    rng = np.random.default_rng(j)\n",
    "    with torch.no_grad():\n",
    "        for key, param in model.named_parameters():\n",
    "            size = param.shape.numel()\n",
    "            subset = rng.choice(size, int(size * P), replace=False, shuffle=False)\n",
    "            param.view(-1)[subset] += const*steps[key]"
   ]
  },
  {
   "cell_type": "code",
   "execution_count": 16,
   "id": "e2fa33a8",
   "metadata": {
    "execution": {
     "iopub.execute_input": "2024-07-16T12:06:24.255296Z",
     "iopub.status.busy": "2024-07-16T12:06:24.254999Z",
     "iopub.status.idle": "2024-07-16T12:06:31.893109Z",
     "shell.execute_reply": "2024-07-16T12:06:31.892189Z"
    },
    "papermill": {
     "duration": 7.666138,
     "end_time": "2024-07-16T12:06:31.895033",
     "exception": false,
     "start_time": "2024-07-16T12:06:24.228895",
     "status": "completed"
    },
    "tags": []
   },
   "outputs": [
    {
     "name": "stdout",
     "output_type": "stream",
     "text": [
      "All data: Mean loss: 0.0436, Accuracy: 3209/10000 (32%)\n",
      "Forget  : Mean loss: 0.0007, Accuracy: 5/100 (5%)\n",
      "Retain  : Mean loss: 0.0429, Accuracy: 3204/9900 (32%)\n"
     ]
    },
    {
     "data": {
      "text/plain": [
       "tensor(0.324)"
      ]
     },
     "execution_count": 16,
     "metadata": {},
     "output_type": "execute_result"
    }
   ],
   "source": [
    "test(model, all_data_test_loader, dname=\"All data\")\n",
    "test(model, target_test_loader, dname=\"Forget  \")\n",
    "test(model, nontarget_test_loader, dname=\"Retain  \")"
   ]
  },
  {
   "cell_type": "code",
   "execution_count": 17,
   "id": "569525f6",
   "metadata": {
    "execution": {
     "iopub.execute_input": "2024-07-16T12:06:31.946000Z",
     "iopub.status.busy": "2024-07-16T12:06:31.945439Z",
     "iopub.status.idle": "2024-07-16T12:06:31.953611Z",
     "shell.execute_reply": "2024-07-16T12:06:31.952798Z"
    },
    "papermill": {
     "duration": 0.035434,
     "end_time": "2024-07-16T12:06:31.955394",
     "exception": false,
     "start_time": "2024-07-16T12:06:31.919960",
     "status": "completed"
    },
    "tags": []
   },
   "outputs": [],
   "source": [
    "path = F\"selective_post_trained.pt\"\n",
    "torch.save({\n",
    "            'model_state_dict': model.state_dict(),\n",
    "            'optimizer_state_dict': optimizer.state_dict(),\n",
    "            }, path)"
   ]
  },
  {
   "cell_type": "code",
   "execution_count": 18,
   "id": "d2b68be3",
   "metadata": {
    "execution": {
     "iopub.execute_input": "2024-07-16T12:06:32.005351Z",
     "iopub.status.busy": "2024-07-16T12:06:32.005093Z",
     "iopub.status.idle": "2024-07-16T12:06:32.012432Z",
     "shell.execute_reply": "2024-07-16T12:06:32.011608Z"
    },
    "papermill": {
     "duration": 0.034421,
     "end_time": "2024-07-16T12:06:32.014429",
     "exception": false,
     "start_time": "2024-07-16T12:06:31.980008",
     "status": "completed"
    },
    "tags": []
   },
   "outputs": [],
   "source": [
    "path = F\"selective_post_trained.pt\"\n",
    "checkpoint = torch.load(path)\n",
    "model.load_state_dict(checkpoint['model_state_dict'])\n",
    "optimizer.load_state_dict(checkpoint['optimizer_state_dict'])"
   ]
  },
  {
   "cell_type": "code",
   "execution_count": 19,
   "id": "f24b1a57",
   "metadata": {
    "execution": {
     "iopub.execute_input": "2024-07-16T12:06:32.066241Z",
     "iopub.status.busy": "2024-07-16T12:06:32.065974Z",
     "iopub.status.idle": "2024-07-16T12:10:02.578338Z",
     "shell.execute_reply": "2024-07-16T12:10:02.576933Z"
    },
    "papermill": {
     "duration": 210.54007,
     "end_time": "2024-07-16T12:10:02.580602",
     "exception": false,
     "start_time": "2024-07-16T12:06:32.040532",
     "status": "completed"
    },
    "tags": []
   },
   "outputs": [
    {
     "name": "stdout",
     "output_type": "stream",
     "text": [
      "Epoch: 5 [ 49152]\tLoss: 2.144419All data: Mean loss: 0.0429, Accuracy: 3327/10000 (33%)\n",
      "Forget  : Mean loss: 0.0015, Accuracy: 0/100 (0%)\n",
      "Retain  : Mean loss: 0.0417, Accuracy: 3327/9900 (34%)\n",
      "Epoch: 6 [ 49152]\tLoss: 2.739810All data: Mean loss: 0.0428, Accuracy: 3404/10000 (34%)\n",
      "Forget  : Mean loss: 0.0017, Accuracy: 0/100 (0%)\n",
      "Retain  : Mean loss: 0.0413, Accuracy: 3404/9900 (34%)\n",
      "Epoch: 7 [ 49152]\tLoss: 2.298378All data: Mean loss: 0.0423, Accuracy: 3530/10000 (35%)\n",
      "Forget  : Mean loss: 0.0019, Accuracy: 0/100 (0%)\n",
      "Retain  : Mean loss: 0.0406, Accuracy: 3530/9900 (36%)\n",
      "Epoch: 8 [ 49152]\tLoss: 2.028638All data: Mean loss: 0.0419, Accuracy: 3505/10000 (35%)\n",
      "Forget  : Mean loss: 0.0019, Accuracy: 0/100 (0%)\n",
      "Retain  : Mean loss: 0.0403, Accuracy: 3505/9900 (35%)\n"
     ]
    }
   ],
   "source": [
    "# Train model for 10 epochs\n",
    "for epoch in range(trainingepochs+1,trainingepochs+forgetfulepochs+1):\n",
    "  # train(resnet, epoch, nonthree_train_loader, returnable=False)\n",
    "    _ = train(model, epoch, nontarget_train_loader, returnable=True)\n",
    "    test(model, all_data_test_loader, dname=\"All data\")\n",
    "    test(model, target_test_loader, dname=\"Forget  \")\n",
    "    test(model, nontarget_test_loader, dname=\"Retain  \")"
   ]
  }
 ],
 "metadata": {
  "kaggle": {
   "accelerator": "nvidiaTeslaT4",
   "dataSources": [],
   "dockerImageVersionId": 30732,
   "isGpuEnabled": true,
   "isInternetEnabled": true,
   "language": "python",
   "sourceType": "notebook"
  },
  "kernelspec": {
   "display_name": "Python 3",
   "language": "python",
   "name": "python3"
  },
  "language_info": {
   "codemirror_mode": {
    "name": "ipython",
    "version": 3
   },
   "file_extension": ".py",
   "mimetype": "text/x-python",
   "name": "python",
   "nbconvert_exporter": "python",
   "pygments_lexer": "ipython3",
   "version": "3.10.13"
  },
  "papermill": {
   "default_parameters": {},
   "duration": 479.063565,
   "end_time": "2024-07-16T12:10:04.545628",
   "environment_variables": {},
   "exception": null,
   "input_path": "__notebook__.ipynb",
   "output_path": "__notebook__.ipynb",
   "parameters": {},
   "start_time": "2024-07-16T12:02:05.482063",
   "version": "2.5.0"
  }
 },
 "nbformat": 4,
 "nbformat_minor": 5
}
